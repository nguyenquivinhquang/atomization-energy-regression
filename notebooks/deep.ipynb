{
 "cells": [
  {
   "cell_type": "code",
   "execution_count": 2,
   "metadata": {},
   "outputs": [
    {
     "name": "stdout",
     "output_type": "stream",
     "text": [
      "e:\\python\\atomization-energy-regression\n"
     ]
    }
   ],
   "source": [
    "%cd ../"
   ]
  },
  {
   "cell_type": "code",
   "execution_count": 3,
   "metadata": {},
   "outputs": [],
   "source": [
    "from src.data_processing.molecule import get_molecule_name \n",
    "import scipy.io\n",
    "import numpy as np\n",
    "import matplotlib.pyplot as plt\n",
    "import networkx as nx\n",
    "from sklearn.preprocessing import MinMaxScaler, StandardScaler\n",
    "from sklearn.metrics import mean_absolute_error"
   ]
  },
  {
   "cell_type": "code",
   "execution_count": 261,
   "metadata": {},
   "outputs": [],
   "source": [
    "data = scipy.io.loadmat('dataset\\qm7.mat')\n",
    "X = data['X'] # Coulomb matrices -> 7165 x 23 x 23\n",
    "T = data['T'].T.squeeze() # atomization energies Y -> 7165 x 1\n",
    "Z = data['Z'] # atomic charge -> 7165 x 23\n",
    "R = data['R'] # cartesian coordinates -> 7165 x 23 x 3\n",
    "data_train, data_test = {}, {}\n",
    "molecule_name = get_molecule_name(data)\n",
    "Y = T\n",
    "y_scaling_factor = np.max(np.absolute(Y))\n",
    "Y = Y / y_scaling_factor"
   ]
  },
  {
   "cell_type": "code",
   "execution_count": 6,
   "metadata": {},
   "outputs": [],
   "source": [
    "def feature_engineer(data):\n",
    "    X = data['X'] # Coulomb matrices -> 7165 x 23 x 23\n",
    "    T = data['T'].T.squeeze() # atomization energies Y -> 7165 x 1\n",
    "    Z = data['Z'] # atomic charge -> 7165 x 23\n",
    "    R = data['R'] # cartesian coordinates -> 7165 x 23 x 3\n",
    "    data_train, data_test = {}, {}\n",
    "    molecule_name = get_molecule_name(data)\n",
    "    \n",
    "    \n",
    "    y = np.transpose(T)\n",
    "    y_scaling_factor = np.max(np.absolute(y))\n",
    "    y_scaled = y / y_scaling_factor\n",
    "   \n",
    "    features_vector = []\n",
    "    for (x,z,r) in zip(X,Z,R):\n",
    "        sorted_idx = np.argsort(np.linalg.norm(x, axis=1)) \n",
    "        sorted_coulomb_mat = x[sorted_idx, :]  # Sort rows\n",
    "        sorted_coulomb_mat.sort(axis=1)\n",
    "        order_x = sorted_coulomb_mat\n",
    "        features_vector.append(np.concatenate((np.linalg.eigvals(x), list(nx.degree_centrality(nx.from_numpy_matrix(x)).values()), order_x.flatten(),z, r.mean(axis=0), r.std(axis=0))))\n",
    "        # print(features_vector[-1].shape)\n",
    "    return features_vector, y_scaled, y_scaling_factor\n",
    "\n",
    "X, Y, min_max_scaler  = feature_engineer(data)\n",
    "X = np.asarray(X)\n",
    "Y = np.asarray(Y)\n",
    "import torch\n",
    "import torch.nn as nn\n",
    "import torch.optim as optim\n",
    "from torch.optim.lr_scheduler import ReduceLROnPlateau, StepLR\n",
    "from src.solver import make_optimizer, make_scheduler\n",
    "# import List\n",
    "class MLP(nn.Module):\n",
    "    def __init__(self, input_size, hidden_sizes):\n",
    "        super(MLP, self).__init__()\n",
    "        print(input_size)\n",
    "        self.fc = nn.Sequential()\n",
    "        self.fc.add_module(\"fc0\", nn.Linear(input_size, hidden_sizes[0]))\n",
    "        for idx, (in_size, out_size) in enumerate(zip(hidden_sizes[:-1], hidden_sizes[1:])):\n",
    "            self.fc.add_module(\"fc{}\".format(idx+1), nn.Linear(in_size, out_size))\n",
    "            self.fc.add_module(\"relu{}\".format(idx+1), nn.ReLU())\n",
    "\n",
    "        self.sigmoid = nn.Sigmoid()\n",
    "        self.fc3 = nn.Linear(hidden_sizes[-1], 1)\n",
    "\n",
    "    def forward(self, x):\n",
    "        x = self.fc(x)\n",
    "        x = self.sigmoid(x)\n",
    "        x = self.fc3(x)\n",
    "        return x"
   ]
  },
  {
   "cell_type": "code",
   "execution_count": null,
   "metadata": {},
   "outputs": [],
   "source": [
    "cfg = {\n",
    "   'OPTIMIZER_NAME': 'SGD',\n",
    "   'MOMENTUM': 0.9,\n",
    "   'BASE_LR': 0.0001,\n",
    "   'WEIGHT_DECAY': 1e-4,\n",
    "   'BIAS_LR_FACTOR': 2,\n",
    "   'WEIGHT_DECAY_BIAS': 1e-4,\n",
    "   'WARMUP_METHOD': 'CosineAnnealing',\n",
    "\n",
    "}  "
   ]
  },
  {
   "cell_type": "code",
   "execution_count": 262,
   "metadata": {},
   "outputs": [],
   "source": [
    "from typing import Callable, Optional\n",
    "import torch\n",
    "from torch_geometric.data import Data, InMemoryDataset, download_url\n",
    "from scipy.io import loadmat\n",
    "data = loadmat('dataset\\qm7.mat')\n",
    "coulomb_matrix = torch.from_numpy(data['X'])\n",
    "target = torch.from_numpy(data['T']).to(torch.float)\n",
    "target = target.view(-1, 1)\n",
    "\n",
    "Z = data['Z']\n",
    "R = data['R']\n",
    "# get node features\n",
    "import networkx as nx\n",
    "\n",
    "node_features = []\n",
    "for i in range(coulomb_matrix.shape[0]):\n",
    "    atom_charge = Z[i]\n",
    "    coordinate = R[i]\n",
    "    x = data['X'][i]\n",
    "    # print(nx.degree_centrality(nx.from_numpy_matrix(x)).values())\n",
    "    centrality = list(nx.degree_centrality(nx.from_numpy_matrix(x)).values())\n",
    "    \n",
    "    # print(centrality)\n",
    "    feature = []\n",
    "    for node_idx in range(coulomb_matrix.shape[1]):\n",
    "        # print(coulomb_matrix[i, node_idx, :], atom_charge[node_idx], coordinate[node_idx, :], centrality[node_idx])\n",
    "        # node_features.append(coulomb_matrix[i, node_idx, :])\n",
    "        if abs(atom_charge[node_idx] - 0.0) < 1e-5:\n",
    "            continue\n",
    "        feature.append(np.array([atom_charge[node_idx], coordinate[node_idx, :][0], coordinate[node_idx, :][1], coordinate[node_idx, :][2] , centrality[node_idx]]))\n",
    "    if len(feature) !=  np.sum(atom_charge!=0):\n",
    "        print(i, len(feature), np.sum(atom_charge!=0))\n",
    "    # break\n",
    "    node_features.append(feature)"
   ]
  },
  {
   "cell_type": "code",
   "execution_count": 263,
   "metadata": {},
   "outputs": [],
   "source": [
    "split = data['P'][0]\n",
    "mask = np.zeros(Y.size, dtype=bool)\n",
    "mask[split] = True\n",
    "\n",
    "X_train = X[~mask]\n",
    "y_train = Y[~mask]\n",
    "X_test = X[mask]\n",
    "y_test = Y[mask]\n",
    "X_train = torch.from_numpy(X_train).float()\n",
    "y_train = torch.from_numpy(y_train).float()\n",
    "X_test = torch.from_numpy(X_test).float()\n",
    "y_test = torch.from_numpy(y_test).float()\n",
    "y_train = y_train.view(-1, 1)\n",
    "y_test = y_test.view(-1, 1)\n",
    "atom_charge_test = Z[mask]\n",
    "# node_train = node_features[~mask]\n",
    "# node_test = node_features[mask]"
   ]
  },
  {
   "cell_type": "code",
   "execution_count": 264,
   "metadata": {},
   "outputs": [],
   "source": [
    "split.sort()"
   ]
  },
  {
   "cell_type": "code",
   "execution_count": 265,
   "metadata": {},
   "outputs": [],
   "source": [
    "node_train = []\n",
    "node_test = []\n",
    "i = 0\n",
    "for idx in split:\n",
    "    node_test.append(np.asarray(node_features[idx]))\n",
    "    # print(Z[idx], atom_charge_test[i])\n",
    "    i += 1\n",
    "for idx in range(len(node_features)):\n",
    "    if idx not in split:\n",
    "        node_train.append(np.asarray(node_features[idx]))"
   ]
  },
  {
   "cell_type": "code",
   "execution_count": 266,
   "metadata": {},
   "outputs": [],
   "source": [
    "data_list = []\n",
    "train_list = []\n",
    "val_list = []\n",
    "for i in range(y_train.shape[0]):\n",
    "    edge_index = X_train[i].nonzero(\n",
    "        as_tuple=False).t().contiguous()\n",
    "    edge_attr = X_train[i, edge_index[0], edge_index[1]]\n",
    "    y = y_train[i]\n",
    "    y = torch.tensor(y)\n",
    "    node_feature = node_train[i]\n",
    "    node_feature = torch.tensor(node_feature)\n",
    "    edge_index = torch.tensor(edge_index)\n",
    "\n",
    "    edge_attr = torch.tensor(edge_attr)\n",
    "    data = Data(x=node_feature, edge_index=edge_index, edge_attr=edge_attr, y=y)\n",
    "    data.num_nodes = edge_index.max().item() + 1\n",
    "    train_list.append(data)\n",
    "    \n",
    "    # print(i)\n",
    "for i in range(y_test.shape[0]):\n",
    "    edge_index = X_test[i].nonzero(\n",
    "        as_tuple=False).t().contiguous()\n",
    "    edge_attr = X_test[i, edge_index[0], edge_index[1]]\n",
    "    y = y_test[i]\n",
    "    y = torch.tensor(y)\n",
    "    node_feature = node_test[i]\n",
    "    if edge_index.max().item() > node_feature.shape[0]:\n",
    "        print(node_feature.shape[0], edge_index.max().item(), i)\n",
    "        print(edge_index)\n",
    "        print(atom_charge_test[i])\n",
    "        break\n",
    "    # print(node_feature.shape[0], edge_index.max().item())\n",
    "    node_feature = torch.tensor(node_feature)\n",
    "    edge_index = torch.tensor(edge_index)\n",
    "    edge_attr = torch.tensor(edge_attr)\n",
    "    data = Data(x = node_feature,edge_index=edge_index, edge_attr=edge_attr, y=y)\n",
    "    data.num_nodes = edge_index.max().item() + 1\n",
    "    val_list.append(data)\n",
    " "
   ]
  },
  {
   "cell_type": "code",
   "execution_count": 267,
   "metadata": {},
   "outputs": [],
   "source": [
    "from torch_geometric.loader import DataLoader\n",
    "\n",
    "train_loader = DataLoader(train_list, batch_size=64, shuffle=True)\n",
    "test_loader = DataLoader(val_list, batch_size=64, shuffle=False)"
   ]
  },
  {
   "cell_type": "code",
   "execution_count": 1,
   "metadata": {},
   "outputs": [
    {
     "ename": "ImportError",
     "evalue": "cannot import name 'Qm7' from 'torch_geometric.datasets' (d:\\Applications\\Anaconda\\envs\\graph\\lib\\site-packages\\torch_geometric\\datasets\\__init__.py)",
     "output_type": "error",
     "traceback": [
      "\u001b[1;31m---------------------------------------------------------------------------\u001b[0m",
      "\u001b[1;31mImportError\u001b[0m                               Traceback (most recent call last)",
      "Cell \u001b[1;32mIn[1], line 1\u001b[0m\n\u001b[1;32m----> 1\u001b[0m \u001b[39mfrom\u001b[39;00m \u001b[39mtorch_geometric\u001b[39;00m\u001b[39m.\u001b[39;00m\u001b[39mdatasets\u001b[39;00m \u001b[39mimport\u001b[39;00m Qm7\n",
      "\u001b[1;31mImportError\u001b[0m: cannot import name 'Qm7' from 'torch_geometric.datasets' (d:\\Applications\\Anaconda\\envs\\graph\\lib\\site-packages\\torch_geometric\\datasets\\__init__.py)"
     ]
    }
   ],
   "source": [
    "from torch_geometric.datasets import Qm7\n"
   ]
  },
  {
   "cell_type": "code",
   "execution_count": 268,
   "metadata": {},
   "outputs": [
    {
     "name": "stdout",
     "output_type": "stream",
     "text": [
      "Step 1:\n",
      "=======\n",
      "Number of graphs in the current batch: 64\n",
      "DataBatch(x=[831, 5], edge_index=[2, 11471], edge_attr=[11471], y=[64], num_nodes=831, batch=[831], ptr=[65])\n",
      "\n"
     ]
    }
   ],
   "source": [
    "for step, data in enumerate(test_loader):\n",
    "    print(f'Step {step + 1}:')\n",
    "    print('=======')\n",
    "    print(f'Number of graphs in the current batch: {data.num_graphs}')\n",
    "    print(data)\n",
    "    print()\n",
    "    break"
   ]
  },
  {
   "cell_type": "code",
   "execution_count": 269,
   "metadata": {},
   "outputs": [
    {
     "data": {
      "text/plain": [
       "5"
      ]
     },
     "execution_count": 269,
     "metadata": {},
     "output_type": "execute_result"
    }
   ],
   "source": [
    "train_loader.dataset[0].num_features\n",
    "test_loader.dataset[0].num_features\n",
    "# train_loader.num_classes"
   ]
  },
  {
   "cell_type": "code",
   "execution_count": 270,
   "metadata": {},
   "outputs": [],
   "source": [
    "import warnings\n",
    "warnings.filterwarnings('ignore')"
   ]
  },
  {
   "cell_type": "code",
   "execution_count": 285,
   "metadata": {},
   "outputs": [
    {
     "name": "stdout",
     "output_type": "stream",
     "text": [
      "Epoch: 001, Train MAE: 0.7842718, Test MAE: 164.3682556\n",
      "Epoch: 002, Train MAE: 0.7813894, Test MAE: 0.7949787\n",
      "Epoch: 003, Train MAE: 0.7775766, Test MAE: 0.7832549\n"
     ]
    },
    {
     "ename": "KeyboardInterrupt",
     "evalue": "",
     "output_type": "error",
     "traceback": [
      "\u001b[1;31m---------------------------------------------------------------------------\u001b[0m",
      "\u001b[1;31mKeyboardInterrupt\u001b[0m                         Traceback (most recent call last)",
      "Cell \u001b[1;32mIn[285], line 76\u001b[0m\n\u001b[0;32m     74\u001b[0m \u001b[39mfor\u001b[39;00m epoch \u001b[39min\u001b[39;00m \u001b[39mrange\u001b[39m(\u001b[39m1\u001b[39m, \u001b[39m171\u001b[39m):\n\u001b[0;32m     75\u001b[0m     test_acc \u001b[39m=\u001b[39m test(test_loader)\n\u001b[1;32m---> 76\u001b[0m     train()\n\u001b[0;32m     77\u001b[0m     train_acc \u001b[39m=\u001b[39m test(train_loader)\n\u001b[0;32m     79\u001b[0m     \u001b[39mprint\u001b[39m(\u001b[39mf\u001b[39m\u001b[39m'\u001b[39m\u001b[39mEpoch: \u001b[39m\u001b[39m{\u001b[39;00mepoch\u001b[39m:\u001b[39;00m\u001b[39m03d\u001b[39m\u001b[39m}\u001b[39;00m\u001b[39m, Train MAE: \u001b[39m\u001b[39m{\u001b[39;00mtrain_acc\u001b[39m:\u001b[39;00m\u001b[39m.7f\u001b[39m\u001b[39m}\u001b[39;00m\u001b[39m, Test MAE: \u001b[39m\u001b[39m{\u001b[39;00mtest_acc\u001b[39m:\u001b[39;00m\u001b[39m.7f\u001b[39m\u001b[39m}\u001b[39;00m\u001b[39m'\u001b[39m)\n",
      "Cell \u001b[1;32mIn[285], line 55\u001b[0m, in \u001b[0;36mtrain\u001b[1;34m()\u001b[0m\n\u001b[0;32m     53\u001b[0m \u001b[39mfor\u001b[39;00m data \u001b[39min\u001b[39;00m train_loader:  \u001b[39m# Iterate in batches over the training dataset.\u001b[39;00m\n\u001b[0;32m     54\u001b[0m      data \u001b[39m=\u001b[39m data\u001b[39m.\u001b[39mto(device)\n\u001b[1;32m---> 55\u001b[0m      out \u001b[39m=\u001b[39m model(data\u001b[39m.\u001b[39;49mx\u001b[39m.\u001b[39;49mfloat(), data\u001b[39m.\u001b[39;49medge_index, data\u001b[39m.\u001b[39;49mbatch)  \u001b[39m# Perform a single forward pass.\u001b[39;00m\n\u001b[0;32m     56\u001b[0m      loss \u001b[39m=\u001b[39m criterion(out, data\u001b[39m.\u001b[39my)  \u001b[39m# Compute the loss.\u001b[39;00m\n\u001b[0;32m     57\u001b[0m      loss\u001b[39m.\u001b[39mbackward()  \u001b[39m# Derive gradients.\u001b[39;00m\n",
      "File \u001b[1;32md:\\Applications\\Anaconda\\envs\\graph\\lib\\site-packages\\torch\\nn\\modules\\module.py:1501\u001b[0m, in \u001b[0;36mModule._call_impl\u001b[1;34m(self, *args, **kwargs)\u001b[0m\n\u001b[0;32m   1496\u001b[0m \u001b[39m# If we don't have any hooks, we want to skip the rest of the logic in\u001b[39;00m\n\u001b[0;32m   1497\u001b[0m \u001b[39m# this function, and just call forward.\u001b[39;00m\n\u001b[0;32m   1498\u001b[0m \u001b[39mif\u001b[39;00m \u001b[39mnot\u001b[39;00m (\u001b[39mself\u001b[39m\u001b[39m.\u001b[39m_backward_hooks \u001b[39mor\u001b[39;00m \u001b[39mself\u001b[39m\u001b[39m.\u001b[39m_backward_pre_hooks \u001b[39mor\u001b[39;00m \u001b[39mself\u001b[39m\u001b[39m.\u001b[39m_forward_hooks \u001b[39mor\u001b[39;00m \u001b[39mself\u001b[39m\u001b[39m.\u001b[39m_forward_pre_hooks\n\u001b[0;32m   1499\u001b[0m         \u001b[39mor\u001b[39;00m _global_backward_pre_hooks \u001b[39mor\u001b[39;00m _global_backward_hooks\n\u001b[0;32m   1500\u001b[0m         \u001b[39mor\u001b[39;00m _global_forward_hooks \u001b[39mor\u001b[39;00m _global_forward_pre_hooks):\n\u001b[1;32m-> 1501\u001b[0m     \u001b[39mreturn\u001b[39;00m forward_call(\u001b[39m*\u001b[39;49margs, \u001b[39m*\u001b[39;49m\u001b[39m*\u001b[39;49mkwargs)\n\u001b[0;32m   1502\u001b[0m \u001b[39m# Do not call functions when jit is used\u001b[39;00m\n\u001b[0;32m   1503\u001b[0m full_backward_hooks, non_full_backward_hooks \u001b[39m=\u001b[39m [], []\n",
      "Cell \u001b[1;32mIn[285], line 27\u001b[0m, in \u001b[0;36mGCN.forward\u001b[1;34m(self, x, edge_index, batch)\u001b[0m\n\u001b[0;32m     25\u001b[0m \u001b[39m# x = self.sigmoid(x)\u001b[39;00m\n\u001b[0;32m     26\u001b[0m x \u001b[39m=\u001b[39m x\u001b[39m.\u001b[39mrelu()\n\u001b[1;32m---> 27\u001b[0m x \u001b[39m=\u001b[39m \u001b[39mself\u001b[39;49m\u001b[39m.\u001b[39;49mconv2(x, edge_index)\n\u001b[0;32m     28\u001b[0m x \u001b[39m=\u001b[39m x\u001b[39m.\u001b[39mrelu()\n\u001b[0;32m     29\u001b[0m \u001b[39m# x = self.sigmoid(x)\u001b[39;00m\n",
      "File \u001b[1;32md:\\Applications\\Anaconda\\envs\\graph\\lib\\site-packages\\torch\\nn\\modules\\module.py:1501\u001b[0m, in \u001b[0;36mModule._call_impl\u001b[1;34m(self, *args, **kwargs)\u001b[0m\n\u001b[0;32m   1496\u001b[0m \u001b[39m# If we don't have any hooks, we want to skip the rest of the logic in\u001b[39;00m\n\u001b[0;32m   1497\u001b[0m \u001b[39m# this function, and just call forward.\u001b[39;00m\n\u001b[0;32m   1498\u001b[0m \u001b[39mif\u001b[39;00m \u001b[39mnot\u001b[39;00m (\u001b[39mself\u001b[39m\u001b[39m.\u001b[39m_backward_hooks \u001b[39mor\u001b[39;00m \u001b[39mself\u001b[39m\u001b[39m.\u001b[39m_backward_pre_hooks \u001b[39mor\u001b[39;00m \u001b[39mself\u001b[39m\u001b[39m.\u001b[39m_forward_hooks \u001b[39mor\u001b[39;00m \u001b[39mself\u001b[39m\u001b[39m.\u001b[39m_forward_pre_hooks\n\u001b[0;32m   1499\u001b[0m         \u001b[39mor\u001b[39;00m _global_backward_pre_hooks \u001b[39mor\u001b[39;00m _global_backward_hooks\n\u001b[0;32m   1500\u001b[0m         \u001b[39mor\u001b[39;00m _global_forward_hooks \u001b[39mor\u001b[39;00m _global_forward_pre_hooks):\n\u001b[1;32m-> 1501\u001b[0m     \u001b[39mreturn\u001b[39;00m forward_call(\u001b[39m*\u001b[39;49margs, \u001b[39m*\u001b[39;49m\u001b[39m*\u001b[39;49mkwargs)\n\u001b[0;32m   1502\u001b[0m \u001b[39m# Do not call functions when jit is used\u001b[39;00m\n\u001b[0;32m   1503\u001b[0m full_backward_hooks, non_full_backward_hooks \u001b[39m=\u001b[39m [], []\n",
      "File \u001b[1;32md:\\Applications\\Anaconda\\envs\\graph\\lib\\site-packages\\torch_geometric\\nn\\conv\\graph_conv.py:86\u001b[0m, in \u001b[0;36mGraphConv.forward\u001b[1;34m(self, x, edge_index, edge_weight, size)\u001b[0m\n\u001b[0;32m     83\u001b[0m     x: OptPairTensor \u001b[39m=\u001b[39m (x, x)\n\u001b[0;32m     85\u001b[0m \u001b[39m# propagate_type: (x: OptPairTensor, edge_weight: OptTensor)\u001b[39;00m\n\u001b[1;32m---> 86\u001b[0m out \u001b[39m=\u001b[39m \u001b[39mself\u001b[39;49m\u001b[39m.\u001b[39;49mpropagate(edge_index, x\u001b[39m=\u001b[39;49mx, edge_weight\u001b[39m=\u001b[39;49medge_weight,\n\u001b[0;32m     87\u001b[0m                      size\u001b[39m=\u001b[39;49msize)\n\u001b[0;32m     88\u001b[0m out \u001b[39m=\u001b[39m \u001b[39mself\u001b[39m\u001b[39m.\u001b[39mlin_rel(out)\n\u001b[0;32m     90\u001b[0m x_r \u001b[39m=\u001b[39m x[\u001b[39m1\u001b[39m]\n",
      "File \u001b[1;32md:\\Applications\\Anaconda\\envs\\graph\\lib\\site-packages\\torch_geometric\\nn\\conv\\message_passing.py:459\u001b[0m, in \u001b[0;36mMessagePassing.propagate\u001b[1;34m(self, edge_index, size, **kwargs)\u001b[0m\n\u001b[0;32m    456\u001b[0m     \u001b[39mfor\u001b[39;00m arg \u001b[39min\u001b[39;00m decomp_args:\n\u001b[0;32m    457\u001b[0m         kwargs[arg] \u001b[39m=\u001b[39m decomp_kwargs[arg][i]\n\u001b[1;32m--> 459\u001b[0m coll_dict \u001b[39m=\u001b[39m \u001b[39mself\u001b[39;49m\u001b[39m.\u001b[39;49m_collect(\u001b[39mself\u001b[39;49m\u001b[39m.\u001b[39;49m_user_args, edge_index, size,\n\u001b[0;32m    460\u001b[0m                           kwargs)\n\u001b[0;32m    462\u001b[0m msg_kwargs \u001b[39m=\u001b[39m \u001b[39mself\u001b[39m\u001b[39m.\u001b[39minspector\u001b[39m.\u001b[39mdistribute(\u001b[39m'\u001b[39m\u001b[39mmessage\u001b[39m\u001b[39m'\u001b[39m, coll_dict)\n\u001b[0;32m    463\u001b[0m \u001b[39mfor\u001b[39;00m hook \u001b[39min\u001b[39;00m \u001b[39mself\u001b[39m\u001b[39m.\u001b[39m_message_forward_pre_hooks\u001b[39m.\u001b[39mvalues():\n",
      "File \u001b[1;32md:\\Applications\\Anaconda\\envs\\graph\\lib\\site-packages\\torch_geometric\\nn\\conv\\message_passing.py:336\u001b[0m, in \u001b[0;36mMessagePassing._collect\u001b[1;34m(self, args, edge_index, size, kwargs)\u001b[0m\n\u001b[0;32m    334\u001b[0m         \u001b[39mif\u001b[39;00m \u001b[39misinstance\u001b[39m(data, Tensor):\n\u001b[0;32m    335\u001b[0m             \u001b[39mself\u001b[39m\u001b[39m.\u001b[39m_set_size(size, dim, data)\n\u001b[1;32m--> 336\u001b[0m             data \u001b[39m=\u001b[39m \u001b[39mself\u001b[39;49m\u001b[39m.\u001b[39;49m_lift(data, edge_index, dim)\n\u001b[0;32m    338\u001b[0m         out[arg] \u001b[39m=\u001b[39m data\n\u001b[0;32m    340\u001b[0m \u001b[39mif\u001b[39;00m is_torch_sparse_tensor(edge_index):\n",
      "File \u001b[1;32md:\\Applications\\Anaconda\\envs\\graph\\lib\\site-packages\\torch_geometric\\nn\\conv\\message_passing.py:272\u001b[0m, in \u001b[0;36mMessagePassing._lift\u001b[1;34m(self, src, edge_index, dim)\u001b[0m\n\u001b[0;32m    270\u001b[0m \u001b[39mtry\u001b[39;00m:\n\u001b[0;32m    271\u001b[0m     index \u001b[39m=\u001b[39m edge_index[dim]\n\u001b[1;32m--> 272\u001b[0m     \u001b[39mreturn\u001b[39;00m src\u001b[39m.\u001b[39;49mindex_select(\u001b[39mself\u001b[39;49m\u001b[39m.\u001b[39;49mnode_dim, index)\n\u001b[0;32m    273\u001b[0m \u001b[39mexcept\u001b[39;00m (\u001b[39mIndexError\u001b[39;00m, \u001b[39mRuntimeError\u001b[39;00m) \u001b[39mas\u001b[39;00m e:\n\u001b[0;32m    274\u001b[0m     \u001b[39mif\u001b[39;00m index\u001b[39m.\u001b[39mmin() \u001b[39m<\u001b[39m \u001b[39m0\u001b[39m \u001b[39mor\u001b[39;00m index\u001b[39m.\u001b[39mmax() \u001b[39m>\u001b[39m\u001b[39m=\u001b[39m src\u001b[39m.\u001b[39msize(\u001b[39mself\u001b[39m\u001b[39m.\u001b[39mnode_dim):\n",
      "\u001b[1;31mKeyboardInterrupt\u001b[0m: "
     ]
    },
    {
     "ename": "",
     "evalue": "",
     "output_type": "error",
     "traceback": [
      "\u001b[1;31mThe Kernel crashed while executing code in the the current cell or a previous cell. Please review the code in the cell(s) to identify a possible cause of the failure. Click <a href='https://aka.ms/vscodeJupyterKernelCrash'>here</a> for more info. View Jupyter <a href='command:jupyter.viewOutput'>log</a> for further details."
     ]
    }
   ],
   "source": [
    "from torch.nn import Linear\n",
    "import torch.nn.functional as F\n",
    "from torch_geometric.nn import GCNConv, GraphConv\n",
    "from torch_geometric.nn import global_mean_pool\n",
    "import torch\n",
    "from torch.optim.lr_scheduler import ReduceLROnPlateau, StepLR\n",
    "\n",
    "class GCN(torch.nn.Module):\n",
    "    def __init__(self,num_node_features, hidden_channels):\n",
    "        super(GCN, self).__init__()\n",
    "        # torch.manual_seed(12345)\n",
    "        self.conv1 = GraphConv(num_node_features, hidden_channels)\n",
    "        self.conv2 = GraphConv(hidden_channels, hidden_channels//2)\n",
    "        self.conv3 = GraphConv(hidden_channels//2, hidden_channels//4)\n",
    "        self.sigmoid = torch.nn.Sigmoid()\n",
    "\n",
    "        self.fc1 = Linear(hidden_channels//4, hidden_channels//8)\n",
    "        self.fc2 = Linear(hidden_channels//8, 1)\n",
    "        # self.lin = Linear(hidden_channels, 1)\n",
    "        self.relu = torch.nn.ReLU()\n",
    "    def forward(self, x, edge_index, batch):\n",
    "        \n",
    "        # 1. Obtain node embeddings \n",
    "        x = self.conv1(x, edge_index)\n",
    "        # x = self.sigmoid(x)\n",
    "        x = x.relu()\n",
    "        x = self.conv2(x, edge_index)\n",
    "        x = x.relu()\n",
    "        # x = self.sigmoid(x)\n",
    "        x = self.conv3(x, edge_index)\n",
    "\n",
    "        # 2. Readout layer\n",
    "        x = global_mean_pool(x, batch)  # [batch_size, hidden_channels]\n",
    "\n",
    "        # 3. Apply a final classifier\n",
    "        x = F.dropout(x, p=0.5, training=self.training)\n",
    "\n",
    "        # x = self.sigmoid(x)\n",
    "        x = self.fc1(x)\n",
    "        x = x.relu()\n",
    "        x = self.fc2(x)\n",
    "        \n",
    "        return x\n",
    "model = GCN(hidden_channels=40, num_node_features=train_loader.dataset[0].num_features)\n",
    "optimizer = torch.optim.AdamW(model.parameters(), lr=0.001)  # Define optimizer.\n",
    "criterion = torch.nn.MSELoss()\n",
    "scheduler = StepLR(optimizer, step_size=30, gamma=0.5)\n",
    "device = torch.device('cuda' if torch.cuda.is_available() else 'cpu')\n",
    "model = model.to(device)\n",
    "def train():\n",
    "    model.train()\n",
    "\n",
    "    for data in train_loader:  # Iterate in batches over the training dataset.\n",
    "         data = data.to(device)\n",
    "         out = model(data.x.float(), data.edge_index, data.batch, data.edg)  # Perform a single forward pass.\n",
    "         loss = criterion(out, data.y)  # Compute the loss.\n",
    "         loss.backward()  # Derive gradients.\n",
    "         optimizer.step()  # Update parameters based on gradients.\n",
    "         optimizer.zero_grad()  # Clear gradients.\n",
    "\n",
    "def test(loader):\n",
    "    model.eval()\n",
    "\n",
    "    correct = 0\n",
    "    predict_loss = []\n",
    "    for data in loader:  # Iterate in batches over the training/test dataset.\n",
    "        \n",
    "        out = model(data.x.float(), data.edge_index, data.batch)  \n",
    "        mae = torch.nn.L1Loss()\n",
    "        predict_loss.append(mae(out, data.y))\n",
    "    return torch.mean(torch.stack(predict_loss))  # Derive ratio of correct predictions.\n",
    "\n",
    "\n",
    "for epoch in range(1, 171):\n",
    "    test_acc = test(test_loader)\n",
    "    train()\n",
    "    train_acc = test(train_loader)\n",
    "    \n",
    "    print(f'Epoch: {epoch:03d}, Train MAE: {train_acc:.7f}, Test MAE: {test_acc:.7f}')\n",
    "    scheduler.step()\n",
    "\n"
   ]
  }
 ],
 "metadata": {
  "kernelspec": {
   "display_name": "chem",
   "language": "python",
   "name": "python3"
  },
  "language_info": {
   "codemirror_mode": {
    "name": "ipython",
    "version": 3
   },
   "file_extension": ".py",
   "mimetype": "text/x-python",
   "name": "python",
   "nbconvert_exporter": "python",
   "pygments_lexer": "ipython3",
   "version": "3.8.16"
  },
  "orig_nbformat": 4
 },
 "nbformat": 4,
 "nbformat_minor": 2
}
